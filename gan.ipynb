{
 "cells": [
  {
   "cell_type": "code",
   "execution_count": 1,
   "metadata": {
    "ExecuteTime": {
     "end_time": "2017-11-10T15:44:13.649466Z",
     "start_time": "2017-11-10T15:44:07.572750Z"
    },
    "collapsed": true
   },
   "outputs": [],
   "source": [
    "from sklearn import datasets, model_selection\n",
    "import numpy as np\n",
    "import matplotlib.pyplot as plt\n",
    "import tensorflow as tf"
   ]
  },
  {
   "cell_type": "code",
   "execution_count": 2,
   "metadata": {
    "ExecuteTime": {
     "end_time": "2017-11-10T15:44:13.734275Z",
     "start_time": "2017-11-10T15:44:13.674031Z"
    },
    "code_folding": [
     0,
     1,
     8,
     26,
     45
    ],
    "collapsed": true
   },
   "outputs": [],
   "source": [
    "def scatter_dataset(X,y):\n",
    "    for i in range(int(np.max(y))+1):\n",
    "        plt.scatter(X[y==i][:,0],X_train[y==i][:,1],s=10)\n",
    "        plt.scatter(X[y==i][:,0],X_train[y==i][:,1],s=10)\n",
    "    plt.show()\n",
    "    \n",
    "    \n",
    "\n",
    "def plot_contours(ax, model, xx, yy, **params):\n",
    "    \"\"\"Plot the decision boundaries for a classifier.\n",
    "\n",
    "    Parameters\n",
    "    ----------\n",
    "    ax: matplotlib axes object\n",
    "    clf: a classifier\n",
    "    xx: meshgrid ndarray\n",
    "    yy: meshgrid ndarray\n",
    "    params: dictionary of params to pass to contourf, optional\n",
    "    \"\"\"\n",
    "    Z = model.predict(np.c_[xx.ravel(), yy.ravel()])\n",
    "    Z[Z<0]=0\n",
    "    Z[Z>0]=1\n",
    "    Z = Z.reshape(xx.shape)\n",
    "    out = ax.contourf(xx, yy, Z, 1,**params)\n",
    "    return out\n",
    "\n",
    "def make_meshgrid(x, y, h=.02):\n",
    "    \"\"\"Create a mesh of points to plot in\n",
    "\n",
    "    Parameters\n",
    "    ----------\n",
    "    x: data to base x-axis meshgrid on\n",
    "    y: data to base y-axis meshgrid on\n",
    "    h: stepsize for meshgrid, optional\n",
    "\n",
    "    Returns\n",
    "    -------\n",
    "    xx, yy : ndarray\n",
    "    \"\"\"\n",
    "    x_min, x_max = x.min() - 2, x.max() + 2\n",
    "    y_min, y_max = y.min() - 2, y.max() + 2\n",
    "    xx, yy = np.meshgrid(np.arange(x_min, x_max, h),\n",
    "                         np.arange(y_min, y_max, h))\n",
    "    return xx, yy    \n",
    "\n",
    "def plot_decision_boundaries(ax, model):\n",
    "    return"
   ]
  },
  {
   "cell_type": "code",
   "execution_count": 3,
   "metadata": {
    "ExecuteTime": {
     "end_time": "2017-11-10T15:44:14.019035Z",
     "start_time": "2017-11-10T15:44:13.747729Z"
    }
   },
   "outputs": [
    {
     "data": {
      "image/png": "[encoded data removed]",
      "text/plain": [
       "<matplotlib.figure.Figure at 0x1d6807a2f28>"
      ]
     },
     "metadata": {},
     "output_type": "display_data"
    }
   ],
   "source": [
    "X,y = datasets.make_moons(n_samples=1000,noise=0.01)\n",
    "# X = np.random.randn(1000,2)\n",
    "# y = np.ones(1000)\n",
    "# X = np.concatenate([np.random.multivariate_normal([-1.5,0],np.eye(2)/10,1000),np.random.multivariate_normal([+1.5,0],np.eye(2)/10,1000)])\n",
    "# y = np.concatenate([np.ones(1000),np.ones(1000)])\n",
    "X_train, X_test, y_train, y_test = model_selection.train_test_split(X, y, test_size=0.33, random_state=42)\n",
    "scatter_dataset(X_train,y_train)"
   ]
  },
  {
   "cell_type": "code",
   "execution_count": 4,
   "metadata": {
    "ExecuteTime": {
     "end_time": "2017-11-10T15:44:14.644775Z",
     "start_time": "2017-11-10T15:44:14.061649Z"
    },
    "code_folding": [],
    "collapsed": true
   },
   "outputs": [],
   "source": [
    "class Model ():\n",
    "    \n",
    "    def __init__(self, sess, batch_size = 100, x_dim=2, nb_class = 2, lr_d = 0.01, lr_g = 0.01,\n",
    "                 z_dim = 2, print_frequency=199, nb_epoch = 100,verbose=True):\n",
    "        self.sess = sess\n",
    "        self.z_dim = z_dim\n",
    "        self.x_dim = x_dim\n",
    "        self.nb_class = nb_class\n",
    "        self.nb_epoch = nb_epoch\n",
    "        self.batch_size = batch_size\n",
    "        self.verbose = verbose\n",
    "        self.print_frequency = print_frequency\n",
    "        self.lr_d = lr_d\n",
    "        self.lr_g = lr_g\n",
    "        \n",
    "        self.build_model()\n",
    "\n",
    "    def generator(self, z, reuse=False):\n",
    "        with tf.variable_scope(\"generator\") as scope:\n",
    "            if reuse:\n",
    "                scope.reuse_variables()\n",
    "            h = tf.layers.dense(z,20, activation=tf.nn.relu)\n",
    "#             h = tf.layers.dense(h,20, activation=tf.nn.relu)\n",
    "            h = tf.layers.dense(h,self.x_dim)\n",
    "            return h\n",
    "\n",
    "    def discriminator(self, inp, reuse=False):\n",
    "        with tf.variable_scope(\"discriminator\") as scope:\n",
    "            if reuse:\n",
    "                scope.reuse_variables()\n",
    "            h = tf.layers.dense(inp,40, activation=tf.nn.relu)\n",
    "#             h = tf.layers.dense(h,2, activation=tf.nn.relu)\n",
    "#             h = tf.layers.dense(h,20, activation=tf.nn.relu)\n",
    "            layer = h\n",
    "            h = tf.layers.dense(h,1)\n",
    "            return h, layer\n",
    "\n",
    "    def build_model(self):\n",
    "        self.input = tf.placeholder(tf.float32,[None,self.x_dim], name='input_data')\n",
    "        self.z = tf.placeholder(tf.float32, [None,self.z_dim],name='z_seed')\n",
    "         \n",
    "        self.G = tf.random_uniform(shape=[self.batch_size, self.x_dim],minval=-3,maxval=3)\n",
    "#         self.G = self.generator(self.z,reuse=False)\n",
    "        self.D, self.layer = self.discriminator(self.input, reuse=False)\n",
    "        self.D_, self.layer_ = self.discriminator(self.G, reuse=True)\n",
    "        \n",
    "        self.d_loss_real = tf.reduce_mean(tf.nn.sigmoid_cross_entropy_with_logits(logits=self.D,labels=tf.ones_like(self.D)))\n",
    "        self.d_loss_fake = tf.reduce_mean(tf.nn.sigmoid_cross_entropy_with_logits(logits=self.D_,labels=tf.zeros_like(self.D_)))\n",
    "        self.d_loss = self.d_loss_fake + self.d_loss_real\n",
    "        self.fm_loss = tf.reduce_mean(tf.reduce_mean(tf.abs(self.layer-self.layer_),axis=0))\n",
    "#         self.fm_loss = tf.reduce_mean(tf.nn.sigmoid_cross_entropy_with_logits(logits=self.D_,labels=tf.ones_like(self.D)))\n",
    "\n",
    "        \n",
    "        self.prediction = tf.greater(self.D, 0)\n",
    "        self.inference = tf.cast(self.prediction,tf.int32)\n",
    "#         self.correct = tf.equal(self.prediction, tf.equal(label,1.0))\n",
    "#         self.accuracy = tf.reduce_mean( tf.cast(self.correct, tf.float32))\n",
    "#         self.accuracy = self.prediction\n",
    "        \n",
    "        t_vars = tf.trainable_variables()\n",
    "        self.d_vars = [var for var in t_vars if 'discriminator' in var.name]\n",
    "        self.g_vars = [var for var in t_vars if 'generator' in var.name]    \n",
    "        \n",
    "\n",
    "    def train(self, X_train, y_train):\n",
    "        self.X_train = X_train\n",
    "        self.y_train = y_train\n",
    "        self.X_train2 = X_train.copy()\n",
    "        self.nb_examples = self.X_train.shape[0]\n",
    "        self.nb_step = self.nb_examples//self.batch_size\n",
    "        \n",
    "        d_optim = tf.train.AdamOptimizer(self.lr_d).minimize(loss=self.d_loss, var_list=self.d_vars)\n",
    "#         g_optim = tf.train.AdamOptimizer(self.lr_g).minimize(loss=self.fm_loss, var_list=self.g_vars)\n",
    "        \n",
    "        self.sess.run(tf.global_variables_initializer())\n",
    "        \n",
    "        for epoch in range(self.nb_epoch):\n",
    "            for step in range(self.nb_step):\n",
    "                ids = np.random.permutation(self.nb_examples)\n",
    "                self.X_train[ids]\n",
    "                ids = np.random.permutation(self.nb_examples)\n",
    "                self.X_train2[ids]\n",
    "\n",
    "                ll_d = 0\n",
    "                ll_g = 0 \n",
    "                for step in range(self.nb_step):\n",
    "                    ran_from = step * self.batch_size\n",
    "                    ran_to = (step+1) * self.batch_size\n",
    "                    _, ll = self.sess.run([d_optim, self.d_loss],feed_dict={self.input:self.X_train[ran_from:ran_to],\n",
    "                                                                            self.z:np.random.randn(self.batch_size,self.z_dim)})\n",
    "                    ll_d += ll\n",
    "                    \n",
    "#                     _, ll = self.sess.run([g_optim, self.fm_loss],feed_dict={self.input:self.X_train2[ran_from:ran_to],\n",
    "#                                                          self.z:np.random.randn(self.batch_size,self.z_dim)})\n",
    "#                     ll_g += ll\n",
    "                ll_d /= (self.nb_examples//self.batch_size)\n",
    "#                 ll_g /= (self.nb_examples//self.batch_size)     \n",
    "                                           \n",
    "            if (epoch % self.print_frequency == 0) & (self.verbose == True):\n",
    "                print('epoch %d | loss d = %0.4f | loss g = %0.4f '%(epoch, ll_d, ll_g))\n",
    "\n",
    "    def predict(self, X_test, y_test=None):\n",
    "        if y_test == None:     \n",
    "            pred = self.sess.run(self.inference,feed_dict={self.input:X_test[:]})\n",
    "            return pred\n",
    "                                  \n",
    "        accuracy = self.sess.run([self.D, self.inference],feed_dict={self.input:self.X_test[:]})\n",
    "        return (accuracy, prediction)\n",
    "                                 \n",
    "\n",
    "    def generate_random_samples(self, nb_samples):\n",
    "        return self.sess.run(self.G,feed_dict={self.z:np.random.randn(nb_samples,self.z_dim)})                      "
   ]
  },
  {
   "cell_type": "code",
   "execution_count": 5,
   "metadata": {
    "ExecuteTime": {
     "end_time": "2017-11-10T15:44:14.717392Z",
     "start_time": "2017-11-10T15:44:14.691831Z"
    },
    "collapsed": true,
    "scrolled": false
   },
   "outputs": [],
   "source": [
    "tf.reset_default_graph()\n",
    "sess = tf.InteractiveSession()"
   ]
  },
  {
   "cell_type": "code",
   "execution_count": 6,
   "metadata": {
    "ExecuteTime": {
     "end_time": "2017-11-10T15:44:59.689185Z",
     "start_time": "2017-11-10T15:44:14.763515Z"
    }
   },
   "outputs": [
    {
     "name": "stdout",
     "output_type": "stream",
     "text": [
      "epoch 0 | loss d = 0.6965 | loss g = 0.0000 \n",
      "epoch 50 | loss d = 0.3666 | loss g = 0.0000 \n",
      "epoch 100 | loss d = 0.3420 | loss g = 0.0000 \n",
      "epoch 150 | loss d = 0.3165 | loss g = 0.0000 \n",
      "epoch 200 | loss d = 0.3047 | loss g = 0.0000 \n",
      "epoch 250 | loss d = 0.2514 | loss g = 0.0000 \n",
      "epoch 300 | loss d = 0.2508 | loss g = 0.0000 \n",
      "epoch 350 | loss d = 0.2537 | loss g = 0.0000 \n",
      "epoch 400 | loss d = 0.2564 | loss g = 0.0000 \n",
      "epoch 450 | loss d = 0.2253 | loss g = 0.0000 \n",
      "epoch 500 | loss d = 0.2179 | loss g = 0.0000 \n",
      "epoch 550 | loss d = 0.2118 | loss g = 0.0000 \n",
      "epoch 600 | loss d = 0.2085 | loss g = 0.0000 \n",
      "epoch 650 | loss d = 0.2034 | loss g = 0.0000 \n",
      "epoch 700 | loss d = 0.1838 | loss g = 0.0000 \n",
      "epoch 750 | loss d = 0.1859 | loss g = 0.0000 \n",
      "epoch 800 | loss d = 0.1536 | loss g = 0.0000 \n",
      "epoch 850 | loss d = 0.1765 | loss g = 0.0000 \n",
      "epoch 900 | loss d = 0.1875 | loss g = 0.0000 \n",
      "epoch 950 | loss d = 0.1704 | loss g = 0.0000 \n",
      "epoch 1000 | loss d = 0.1799 | loss g = 0.0000 \n",
      "epoch 1050 | loss d = 0.1908 | loss g = 0.0000 \n",
      "epoch 1100 | loss d = 0.1803 | loss g = 0.0000 \n",
      "epoch 1150 | loss d = 0.1834 | loss g = 0.0000 \n",
      "epoch 1200 | loss d = 0.1929 | loss g = 0.0000 \n",
      "epoch 1250 | loss d = 0.1407 | loss g = 0.0000 \n",
      "epoch 1300 | loss d = 0.1998 | loss g = 0.0000 \n",
      "epoch 1350 | loss d = 0.1679 | loss g = 0.0000 \n",
      "epoch 1400 | loss d = 0.1626 | loss g = 0.0000 \n",
      "epoch 1450 | loss d = 0.2028 | loss g = 0.0000 \n",
      "epoch 1500 | loss d = 0.1779 | loss g = 0.0000 \n",
      "epoch 1550 | loss d = 0.1696 | loss g = 0.0000 \n",
      "epoch 1600 | loss d = 0.1618 | loss g = 0.0000 \n",
      "epoch 1650 | loss d = 0.1691 | loss g = 0.0000 \n",
      "epoch 1700 | loss d = 0.1601 | loss g = 0.0000 \n",
      "epoch 1750 | loss d = 0.1745 | loss g = 0.0000 \n",
      "epoch 1800 | loss d = 0.1271 | loss g = 0.0000 \n",
      "epoch 1850 | loss d = 0.1614 | loss g = 0.0000 \n",
      "epoch 1900 | loss d = 0.1263 | loss g = 0.0000 \n",
      "epoch 1950 | loss d = 0.1325 | loss g = 0.0000 \n"
     ]
    }
   ],
   "source": [
    "ssgan = Model(sess, print_frequency=50, nb_epoch= 2000, lr_d=0.01,lr_g=0.01, z_dim=3)\n",
    "ssgan.train(X_train=X_train, y_train=y_train)"
   ]
  },
  {
   "cell_type": "code",
   "execution_count": 9,
   "metadata": {
    "ExecuteTime": {
     "end_time": "2017-11-10T15:45:15.134530Z",
     "start_time": "2017-11-10T15:45:14.933462Z"
    }
   },
   "outputs": [
    {
     "data": {
      "image/png": "[encoded data removed]",
      "text/plain": [
       "<matplotlib.figure.Figure at 0x1d6822ed9e8>"
      ]
     },
     "metadata": {},
     "output_type": "display_data"
    }
   ],
   "source": [
    "X_gen = ssgan.generate_random_samples(100)\n",
    "plt.close()\n",
    "fig, ax = plt.subplots()\n",
    "X0, X1 = X_train[:, 0], X_train[:, 1]\n",
    "xx, yy = make_meshgrid(X0, X1)\n",
    "plot_contours(ax, ssgan, xx,yy,cmap=plt.cm.coolwarm, alpha=0.6)\n",
    "plt.scatter(X_train[y_train==0][:,0],X_train[y_train==0][:,1],s=1)\n",
    "plt.scatter(X_train[y_train==1][:,0],X_train[y_train==1][:,1],s=1)\n",
    "plt.scatter(X_gen[:,0],X_gen[:,1],c='r',s=5)\n",
    "plt.show()"
   ]
  },
  {
   "cell_type": "code",
   "execution_count": null,
   "metadata": {
    "collapsed": true
   },
   "outputs": [],
   "source": []
  }
 ],
 "metadata": {
  "kernelspec": {
   "display_name": "Python 3",
   "language": "python",
   "name": "python3"
  },
  "language_info": {
   "codemirror_mode": {
    "name": "ipython",
    "version": 3
   },
   "file_extension": ".py",
   "mimetype": "text/x-python",
   "name": "python",
   "nbconvert_exporter": "python",
   "pygments_lexer": "ipython3",
   "version": "3.6.2"
  },
  "varInspector": {
   "cols": {
    "lenName": 16,
    "lenType": 16,
    "lenVar": 40
   },
   "kernels_config": {
    "python": {
     "delete_cmd_postfix": "",
     "delete_cmd_prefix": "del ",
     "library": "var_list.py",
     "varRefreshCmd": "print(var_dic_list())"
    },
    "r": {
     "delete_cmd_postfix": ") ",
     "delete_cmd_prefix": "rm(",
     "library": "var_list.r",
     "varRefreshCmd": "cat(var_dic_list()) "
    }
   },
   "position": {
    "height": "317px",
    "left": "1269.35px",
    "right": "20px",
    "top": "1px",
    "width": "425px"
   },
   "types_to_exclude": [
    "module",
    "function",
    "builtin_function_or_method",
    "instance",
    "_Feature"
   ],
   "window_display": true
  }
 },
 "nbformat": 4,
 "nbformat_minor": 2
}
