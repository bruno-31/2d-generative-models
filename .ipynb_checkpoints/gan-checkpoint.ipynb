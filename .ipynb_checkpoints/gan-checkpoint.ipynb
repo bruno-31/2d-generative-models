{
 "cells": [
  {
   "cell_type": "code",
   "execution_count": 1,
   "metadata": {
    "ExecuteTime": {
     "end_time": "2017-11-10T07:49:41.459338Z",
     "start_time": "2017-11-10T07:49:36.455218Z"
    }
   },
   "outputs": [],
   "source": [
    "from sklearn import datasets, model_selection\n",
    "import numpy as np\n",
    "import matplotlib.pyplot as plt\n",
    "import tensorflow as tf"
   ]
  },
  {
   "cell_type": "code",
   "execution_count": 87,
   "metadata": {
    "ExecuteTime": {
     "end_time": "2017-11-10T08:20:07.019437Z",
     "start_time": "2017-11-10T08:20:06.957271Z"
    },
    "code_folding": [
     0,
     1,
     8,
     26,
     45
    ],
    "collapsed": true
   },
   "outputs": [],
   "source": [
    "def scatter_dataset(X,y):\n",
    "    for i in range(int(np.max(y))+1):\n",
    "        plt.scatter(X[y==i][:,0],X_train[y==i][:,1],s=10)\n",
    "        plt.scatter(X[y==i][:,0],X_train[y==i][:,1],s=10)\n",
    "    plt.show()\n",
    "    \n",
    "    \n",
    "\n",
    "def plot_contours(ax, model, xx, yy, **params):\n",
    "    \"\"\"Plot the decision boundaries for a classifier.\n",
    "\n",
    "    Parameters\n",
    "    ----------\n",
    "    ax: matplotlib axes object\n",
    "    clf: a classifier\n",
    "    xx: meshgrid ndarray\n",
    "    yy: meshgrid ndarray\n",
    "    params: dictionary of params to pass to contourf, optional\n",
    "    \"\"\"\n",
    "    Z = model.predict(np.c_[xx.ravel(), yy.ravel()])\n",
    "    Z[Z<0]=0\n",
    "    Z[Z>0]=1\n",
    "    Z = Z.reshape(xx.shape)\n",
    "    out = ax.contourf(xx, yy, Z, 1,**params)\n",
    "    return out\n",
    "\n",
    "def make_meshgrid(x, y, h=.02):\n",
    "    \"\"\"Create a mesh of points to plot in\n",
    "\n",
    "    Parameters\n",
    "    ----------\n",
    "    x: data to base x-axis meshgrid on\n",
    "    y: data to base y-axis meshgrid on\n",
    "    h: stepsize for meshgrid, optional\n",
    "\n",
    "    Returns\n",
    "    -------\n",
    "    xx, yy : ndarray\n",
    "    \"\"\"\n",
    "    x_min, x_max = x.min() - 1, x.max() + 1\n",
    "    y_min, y_max = y.min() - 1, y.max() + 1\n",
    "    xx, yy = np.meshgrid(np.arange(x_min, x_max, h),\n",
    "                         np.arange(y_min, y_max, h))\n",
    "    return xx, yy    \n",
    "\n",
    "def plot_decision_boundaries(ax, model):\n",
    "    return"
   ]
  },
  {
   "cell_type": "code",
   "execution_count": 158,
   "metadata": {
    "ExecuteTime": {
     "end_time": "2017-11-10T08:39:35.960456Z",
     "start_time": "2017-11-10T08:39:35.727334Z"
    }
   },
   "outputs": [
    {
     "data": {
      "image/png": "[encoded data removed]",
      "text/plain": [
       "<matplotlib.figure.Figure at 0x1ec3eb85748>"
      ]
     },
     "metadata": {},
     "output_type": "display_data"
    }
   ],
   "source": [
    "X,y = datasets.make_moons(n_samples=1500,noise=0.1)\n",
    "X = np.random.randn(1500,2)\n",
    "y = np.ones(1500)\n",
    "X_train, X_test, y_train, y_test = model_selection.train_test_split(X, y, test_size=0.33, random_state=42)\n",
    "scatter_dataset(X_train,y_train)"
   ]
  },
  {
   "cell_type": "code",
   "execution_count": 171,
   "metadata": {
    "ExecuteTime": {
     "end_time": "2017-11-10T08:45:22.627661Z",
     "start_time": "2017-11-10T08:45:22.105146Z"
    },
    "code_folding": [
     2,
     26,
     37,
     61,
     98
    ]
   },
   "outputs": [],
   "source": [
    "class Model ():\n",
    "    \n",
    "    def __init__(self, sess, batch_size = 100, x_dim=2, nb_class = 2, lr_d = 0.01, lr_g = 0.01,\n",
    "                 z_dim = 2, print_frequency=199, nb_epoch = 100,verbose=True):\n",
    "        self.sess = sess\n",
    "        self.z_dim = z_dim\n",
    "        self.x_dim = x_dim\n",
    "        self.nb_class = nb_class\n",
    "        self.nb_epoch = nb_epoch\n",
    "        self.batch_size = batch_size\n",
    "        self.verbose = verbose\n",
    "        self.print_frequency = print_frequency\n",
    "        self.lr_d = lr_d\n",
    "        self.lr_g = lr_g\n",
    "        \n",
    "        self.build_model()\n",
    "\n",
    "    def generator(self, z, reuse=False):\n",
    "        with tf.variable_scope(\"generator\") as scope:\n",
    "            if reuse:\n",
    "                scope.reuse_variables()\n",
    "            h = tf.layers.dense(z,20, activation=tf.nn.relu)\n",
    "#             h = tf.layers.dense(h,20, activation=tf.nn.relu)\n",
    "            h = tf.layers.dense(h,self.x_dim)\n",
    "            return h\n",
    "\n",
    "    def discriminator(self, inp, reuse=False):\n",
    "        with tf.variable_scope(\"discriminator\") as scope:\n",
    "            if reuse:\n",
    "                scope.reuse_variables()\n",
    "            h = tf.layers.dense(inp,20, activation=tf.nn.relu)\n",
    "            h = tf.layers.dense(h,20, activation=tf.nn.relu)\n",
    "            h = tf.layers.dense(h,20, activation=tf.nn.relu)\n",
    "            layer = h\n",
    "            h = tf.layers.dense(h,1)\n",
    "            return h, layer\n",
    "\n",
    "    def build_model(self):\n",
    "        self.input = tf.placeholder(tf.float32,[None,self.x_dim], name='input_data')\n",
    "        self.z = tf.placeholder(tf.float32, [None,self.z_dim],name='z_seed')\n",
    " \n",
    "        self.G = self.generator(self.z,reuse=False)\n",
    "        self.D, self.layer = self.discriminator(self.input, reuse=False)\n",
    "        self.D_, self.layer_ = self.discriminator(self.G, reuse=True)\n",
    "        \n",
    "        self.d_loss_real = tf.reduce_mean(tf.nn.sigmoid_cross_entropy_with_logits(logits=self.D,labels=tf.ones_like(self.D)))\n",
    "        self.d_loss_fake = tf.reduce_mean(tf.nn.sigmoid_cross_entropy_with_logits(logits=self.D_,labels=tf.zeros_like(self.D_)))\n",
    "        self.d_loss = self.d_loss_fake + self.d_loss_real\n",
    "        self.fm_loss = tf.reduce_mean(tf.reduce_mean(tf.abs(self.layer-self.layer_),axis=0))\n",
    "        \n",
    "        self.prediction = tf.greater(self.D, 0)\n",
    "        self.inference = tf.cast(self.prediction,tf.int32)\n",
    "#         self.correct = tf.equal(self.prediction, tf.equal(label,1.0))\n",
    "#         self.accuracy = tf.reduce_mean( tf.cast(self.correct, tf.float32))\n",
    "#         self.accuracy = self.prediction\n",
    "        \n",
    "        t_vars = tf.trainable_variables()\n",
    "        self.d_vars = [var for var in t_vars if 'discriminator' in var.name]\n",
    "        self.g_vars = [var for var in t_vars if 'generator' in var.name]    \n",
    "        \n",
    "\n",
    "    def train(self, X_train, y_train):\n",
    "        self.X_train = X_train\n",
    "        self.y_train = y_train\n",
    "        self.X_train2 = X_train.copy()\n",
    "        self.nb_examples = self.X_train.shape[0]\n",
    "        self.nb_step = self.nb_examples//self.batch_size\n",
    "        \n",
    "        d_optim = tf.train.AdamOptimizer(self.lr_d).minimize(loss=self.d_loss, var_list=self.d_vars)\n",
    "        g_optim = tf.train.AdamOptimizer(self.lr_g).minimize(loss=self.fm_loss, var_list=self.g_vars)\n",
    "        \n",
    "        self.sess.run(tf.global_variables_initializer())\n",
    "        \n",
    "        for epoch in range(self.nb_epoch):\n",
    "            for step in range(self.nb_step):\n",
    "                ids = np.random.permutation(self.nb_examples)\n",
    "                self.X_train[ids]\n",
    "                ids = np.random.permutation(self.nb_examples)\n",
    "                self.X_train2[ids]\n",
    "\n",
    "                ll_d = 0\n",
    "                ll_g = 0 \n",
    "                for step in range(self.nb_step):\n",
    "                    ran_from = step * self.batch_size\n",
    "                    ran_to = (step+1) * self.batch_size\n",
    "                    _, ll = self.sess.run([d_optim, self.d_loss],feed_dict={self.input:self.X_train[ran_from:ran_to],\n",
    "                                                                            self.z:np.random.randn(self.batch_size,self.z_dim)})\n",
    "                    ll_d += ll\n",
    "                    \n",
    "                    _, ll = self.sess.run([g_optim, self.fm_loss],feed_dict={self.input:self.X_train2[ran_from:ran_to],\n",
    "                                                         self.z:np.random.randn(self.batch_size,self.z_dim)})\n",
    "                    ll_g += ll\n",
    "                ll_d /= (self.nb_examples//self.batch_size)\n",
    "                ll_g /= (self.nb_examples//self.batch_size)     \n",
    "                                           \n",
    "            if (epoch % self.print_frequency == 0) & (self.verbose == True):\n",
    "                print('epoch %d | loss d = %0.4f | loss g = %0.4f '%(epoch, ll_d, ll_g))\n",
    "\n",
    "    def predict(self, X_test, y_test=None):\n",
    "        if y_test == None:     \n",
    "            pred = self.sess.run(self.inference,feed_dict={self.input:X_test[:]})\n",
    "            return pred\n",
    "                                  \n",
    "        accuracy = self.sess.run([self.D, self.inference],feed_dict={self.input:self.X_test[:]})\n",
    "        return (accuracy, prediction)\n",
    "                                 \n",
    "\n",
    "    def generate_random_samples(self, nb_samples):\n",
    "        return self.sess.run(self.G,feed_dict={self.z:np.random.randn(nb_samples,self.z_dim)})                      "
   ]
  },
  {
   "cell_type": "code",
   "execution_count": 172,
   "metadata": {
    "ExecuteTime": {
     "end_time": "2017-11-10T08:45:22.836059Z",
     "start_time": "2017-11-10T08:45:22.829542Z"
    },
    "scrolled": false
   },
   "outputs": [],
   "source": [
    "tf.reset_default_graph()\n",
    "sess = tf.InteractiveSession()"
   ]
  },
  {
   "cell_type": "code",
   "execution_count": 173,
   "metadata": {
    "ExecuteTime": {
     "end_time": "2017-11-10T08:45:38.856882Z",
     "start_time": "2017-11-10T08:45:23.357645Z"
    }
   },
   "outputs": [
    {
     "name": "stdout",
     "output_type": "stream",
     "text": [
      "epoch 0 | loss d = 1.0296 | loss g = 0.2976 \n",
      "epoch 50 | loss d = 0.0131 | loss g = 6.7082 \n"
     ]
    }
   ],
   "source": [
    "ssgan = Model(sess, print_frequency=50, nb_epoch= 100, lr_d=0.01,lr_g=0.01, z_dim=1)\n",
    "ssgan.train(X_train=X_train, y_train=y_train)"
   ]
  },
  {
   "cell_type": "code",
   "execution_count": 174,
   "metadata": {
    "ExecuteTime": {
     "end_time": "2017-11-10T08:45:42.011250Z",
     "start_time": "2017-11-10T08:45:41.737019Z"
    }
   },
   "outputs": [
    {
     "data": {
      "image/png": "[encoded data removed]",
      "text/plain": [
       "<matplotlib.figure.Figure at 0x1ec3a2b52e8>"
      ]
     },
     "metadata": {},
     "output_type": "display_data"
    }
   ],
   "source": [
    "X_gen = ssgan.generate_random_samples(100)\n",
    "plt.close()\n",
    "fig, ax = plt.subplots()\n",
    "X0, X1 = X_train[:, 0], X_train[:, 1]\n",
    "xx, yy = make_meshgrid(X0, X1)\n",
    "plot_contours(ax, ssgan, xx,yy,cmap=plt.cm.coolwarm, alpha=0.6)\n",
    "plt.scatter(X_train[y_train==0][:,0],X_train[y_train==0][:,1],s=1)\n",
    "plt.scatter(X_train[y_train==1][:,0],X_train[y_train==1][:,1],s=1)\n",
    "plt.scatter(X_gen[:,0],X_gen[:,1],c='r',s=5)\n",
    "plt.show()"
   ]
  },
  {
   "cell_type": "code",
   "execution_count": 175,
   "metadata": {
    "ExecuteTime": {
     "end_time": "2017-11-10T08:45:51.866115Z",
     "start_time": "2017-11-10T08:45:51.854083Z"
    }
   },
   "outputs": [
    {
     "data": {
      "text/plain": [
       "array([[ 0.13021877, -1.1132921 ],\n",
       "       [ 0.13021877, -1.1132921 ],\n",
       "       [ 0.13021877, -1.1132921 ],\n",
       "       [ 0.13021877, -1.1132921 ],\n",
       "       [ 0.13021877, -1.1132921 ],\n",
       "       [ 0.13021877, -1.1132921 ],\n",
       "       [ 0.13021877, -1.1132921 ],\n",
       "       [ 0.13021877, -1.1132921 ],\n",
       "       [ 0.13021877, -1.1132921 ],\n",
       "       [ 0.13021877, -1.1132921 ],\n",
       "       [ 0.13021877, -1.1132921 ],\n",
       "       [ 0.13021877, -1.1132921 ],\n",
       "       [ 0.13021877, -1.1132921 ],\n",
       "       [ 0.13021877, -1.1132921 ],\n",
       "       [ 0.13021877, -1.1132921 ],\n",
       "       [ 0.13021877, -1.1132921 ],\n",
       "       [ 0.13021877, -1.1132921 ],\n",
       "       [ 0.13021877, -1.1132921 ],\n",
       "       [ 0.13021877, -1.1132921 ],\n",
       "       [ 0.13021877, -1.1132921 ],\n",
       "       [ 0.13021877, -1.1132921 ],\n",
       "       [ 0.13021877, -1.1132921 ],\n",
       "       [ 0.13021877, -1.1132921 ],\n",
       "       [ 0.13021877, -1.1132921 ],\n",
       "       [ 0.13021877, -1.1132921 ],\n",
       "       [ 0.13021877, -1.1132921 ],\n",
       "       [ 0.13021877, -1.1132921 ],\n",
       "       [ 0.13021877, -1.1132921 ],\n",
       "       [ 0.13021877, -1.1132921 ],\n",
       "       [ 0.13021877, -1.1132921 ],\n",
       "       [ 0.13021877, -1.1132921 ],\n",
       "       [ 0.13021877, -1.1132921 ],\n",
       "       [ 0.13021877, -1.1132921 ],\n",
       "       [ 0.13021877, -1.1132921 ],\n",
       "       [ 0.13021877, -1.1132921 ],\n",
       "       [ 0.13021877, -1.1132921 ],\n",
       "       [ 0.13021877, -1.1132921 ],\n",
       "       [ 0.13021877, -1.1132921 ],\n",
       "       [ 0.13021877, -1.1132921 ],\n",
       "       [ 0.13021877, -1.1132921 ],\n",
       "       [ 0.13021877, -1.1132921 ],\n",
       "       [ 0.13021877, -1.1132921 ],\n",
       "       [ 0.13021877, -1.1132921 ],\n",
       "       [ 0.13021877, -1.1132921 ],\n",
       "       [ 0.13021877, -1.1132921 ],\n",
       "       [ 0.13021877, -1.1132921 ],\n",
       "       [ 0.13021877, -1.1132921 ],\n",
       "       [ 0.13021877, -1.1132921 ],\n",
       "       [ 0.13021877, -1.1132921 ],\n",
       "       [ 0.13021877, -1.1132921 ],\n",
       "       [ 0.13021877, -1.1132921 ],\n",
       "       [ 0.13021877, -1.1132921 ],\n",
       "       [ 0.13021877, -1.1132921 ],\n",
       "       [ 0.13021877, -1.1132921 ],\n",
       "       [ 0.13021877, -1.1132921 ],\n",
       "       [ 0.13021877, -1.1132921 ],\n",
       "       [ 0.13021877, -1.1132921 ],\n",
       "       [ 0.13021877, -1.1132921 ],\n",
       "       [ 0.13021877, -1.1132921 ],\n",
       "       [ 0.13021877, -1.1132921 ],\n",
       "       [ 0.13021877, -1.1132921 ],\n",
       "       [ 0.13021877, -1.1132921 ],\n",
       "       [ 0.13021877, -1.1132921 ],\n",
       "       [ 0.13021877, -1.1132921 ],\n",
       "       [ 0.13021877, -1.1132921 ],\n",
       "       [ 0.13021877, -1.1132921 ],\n",
       "       [ 0.13021877, -1.1132921 ],\n",
       "       [ 0.13021877, -1.1132921 ],\n",
       "       [ 0.13021877, -1.1132921 ],\n",
       "       [ 0.13021877, -1.1132921 ],\n",
       "       [ 0.13021877, -1.1132921 ],\n",
       "       [ 0.13021877, -1.1132921 ],\n",
       "       [ 0.13021877, -1.1132921 ],\n",
       "       [ 0.13021877, -1.1132921 ],\n",
       "       [ 0.13021877, -1.1132921 ],\n",
       "       [ 0.13021877, -1.1132921 ],\n",
       "       [ 0.13021877, -1.1132921 ],\n",
       "       [ 0.13021877, -1.1132921 ],\n",
       "       [ 0.13021877, -1.1132921 ],\n",
       "       [ 0.13021877, -1.1132921 ],\n",
       "       [ 0.13021877, -1.1132921 ],\n",
       "       [ 0.13021877, -1.1132921 ],\n",
       "       [ 0.13021877, -1.1132921 ],\n",
       "       [ 0.13021877, -1.1132921 ],\n",
       "       [ 0.13021877, -1.1132921 ],\n",
       "       [ 0.13021877, -1.1132921 ],\n",
       "       [ 0.13021877, -1.1132921 ],\n",
       "       [ 0.13021877, -1.1132921 ],\n",
       "       [ 0.13021877, -1.1132921 ],\n",
       "       [ 0.13021877, -1.1132921 ],\n",
       "       [ 0.13021877, -1.1132921 ],\n",
       "       [ 0.13021877, -1.1132921 ],\n",
       "       [ 0.13021877, -1.1132921 ],\n",
       "       [ 0.13021877, -1.1132921 ],\n",
       "       [ 0.13021877, -1.1132921 ],\n",
       "       [ 0.13021877, -1.1132921 ],\n",
       "       [ 0.13021877, -1.1132921 ],\n",
       "       [ 0.13021877, -1.1132921 ],\n",
       "       [ 0.13021877, -1.1132921 ],\n",
       "       [ 0.13021877, -1.1132921 ]], dtype=float32)"
      ]
     },
     "execution_count": 175,
     "metadata": {},
     "output_type": "execute_result"
    }
   ],
   "source": [
    "X_gen"
   ]
  },
  {
   "cell_type": "code",
   "execution_count": null,
   "metadata": {
    "collapsed": true
   },
   "outputs": [],
   "source": []
  }
 ],
 "metadata": {
  "kernelspec": {
   "display_name": "Python [conda root]",
   "language": "python",
   "name": "conda-root-py"
  },
  "varInspector": {
   "cols": {
    "lenName": 16,
    "lenType": 16,
    "lenVar": 40
   },
   "kernels_config": {
    "python": {
     "delete_cmd_postfix": "",
     "delete_cmd_prefix": "del ",
     "library": "var_list.py",
     "varRefreshCmd": "print(var_dic_list())"
    },
    "r": {
     "delete_cmd_postfix": ") ",
     "delete_cmd_prefix": "rm(",
     "library": "var_list.r",
     "varRefreshCmd": "cat(var_dic_list()) "
    }
   },
   "position": {
    "height": "317px",
    "left": "1269.35px",
    "right": "20px",
    "top": "1px",
    "width": "425px"
   },
   "types_to_exclude": [
    "module",
    "function",
    "builtin_function_or_method",
    "instance",
    "_Feature"
   ],
   "window_display": true
  }
 },
 "nbformat": 4,
 "nbformat_minor": 2
}
