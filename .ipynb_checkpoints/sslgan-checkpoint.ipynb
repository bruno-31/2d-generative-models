{
 "cells": [
  {
   "cell_type": "code",
   "execution_count": 1,
   "metadata": {
    "ExecuteTime": {
     "end_time": "2017-11-11T03:07:06.096852Z",
     "start_time": "2017-11-11T03:07:00.489003Z"
    },
    "collapsed": true
   },
   "outputs": [],
   "source": [
    "from sklearn import datasets, model_selection\n",
    "import numpy as np\n",
    "import matplotlib.pyplot as plt\n",
    "import tensorflow as tf\n",
    "from utils import *"
   ]
  },
  {
   "cell_type": "code",
   "execution_count": 11,
   "metadata": {
    "ExecuteTime": {
     "end_time": "2017-11-10T17:02:26.412458Z",
     "start_time": "2017-11-10T17:02:26.369318Z"
    },
    "code_folding": [
     8,
     26
    ],
    "collapsed": true
   },
   "outputs": [],
   "source": [
    "def scatter_dataset(X,y):\n",
    "    for i in range(int(np.max(y))+1):\n",
    "        plt.scatter(X[y==i][:,0],X_train[y==i][:,1],s=10)\n",
    "        plt.scatter(X[y==i][:,0],X_train[y==i][:,1],s=10)\n",
    "    plt.show()\n",
    "    \n",
    "    \n",
    "\n",
    "def plot_contours(ax, model, xx, yy, **params):\n",
    "    \"\"\"Plot the decision boundaries for a classifier.\n",
    "\n",
    "    Parameters\n",
    "    ----------\n",
    "    ax: matplotlib axes object\n",
    "    clf: a classifier\n",
    "    xx: meshgrid ndarray\n",
    "    yy: meshgrid ndarray\n",
    "    params: dictionary of params to pass to contourf, optional\n",
    "    \"\"\"\n",
    "    Z = model.predict(np.c_[xx.ravel(), yy.ravel()])\n",
    "    Z[Z<0]=0\n",
    "    Z[Z>0]=1\n",
    "    Z = Z.reshape(xx.shape)\n",
    "    out = ax.contourf(xx, yy, Z, 1,**params)\n",
    "    return out\n",
    "\n",
    "def make_meshgrid(x, y, h=.02):\n",
    "    \"\"\"Create a mesh of points to plot in\n",
    "\n",
    "    Parameters\n",
    "    ----------\n",
    "    x: data to base x-axis meshgrid on\n",
    "    y: data to base y-axis meshgrid on\n",
    "    h: stepsize for meshgrid, optional\n",
    "\n",
    "    Returns\n",
    "    -------\n",
    "    xx, yy : ndarray\n",
    "    \"\"\"\n",
    "    x_min, x_max = x.min() - 2, x.max() + 2\n",
    "    y_min, y_max = y.min() - 2, y.max() + 2\n",
    "    xx, yy = np.meshgrid(np.arange(x_min, x_max, h),\n",
    "                         np.arange(y_min, y_max, h))\n",
    "    return xx, yy    "
   ]
  },
  {
   "cell_type": "code",
   "execution_count": 40,
   "metadata": {
    "ExecuteTime": {
     "end_time": "2017-11-11T03:21:10.074808Z",
     "start_time": "2017-11-11T03:21:09.418246Z"
    },
    "code_folding": [
     2,
     17,
     25,
     109,
     118
    ],
    "collapsed": true
   },
   "outputs": [],
   "source": [
    "class Model ():\n",
    "    \n",
    "    def __init__(self, sess, batch_size = 100, x_dim=2, nb_class = 2, lr_d = 0.01, lr_g = 0.01,\n",
    "                 z_dim = 2, print_frequency=199, nb_epoch = 100,verbose=True):\n",
    "        self.sess = sess\n",
    "        self.z_dim = z_dim\n",
    "        self.x_dim = x_dim\n",
    "        self.nb_class = nb_class\n",
    "        self.nb_epoch = nb_epoch\n",
    "        self.batch_size = batch_size\n",
    "        self.verbose = verbose\n",
    "        self.print_frequency = print_frequency\n",
    "        self.lr_d = lr_d\n",
    "        self.lr_g = lr_g\n",
    "        \n",
    "        self.build_model()\n",
    "\n",
    "    def generator(self, z, reuse=False):\n",
    "        with tf.variable_scope(\"generator\") as scope:\n",
    "            if reuse:\n",
    "                scope.reuse_variables()\n",
    "            h = tf.layers.dense(z,20, activation=tf.nn.relu)\n",
    "            h = tf.layers.dense(h,self.x_dim)\n",
    "            return h\n",
    "\n",
    "    def discriminator(self, inp, reuse=False):\n",
    "        with tf.variable_scope(\"discriminator\") as scope:\n",
    "            if reuse:\n",
    "                scope.reuse_variables()\n",
    "            h = tf.layers.dense(inp,40, activation=tf.nn.relu)\n",
    "            h = tf.layers.dense(h,20, activation=tf.nn.relu)\n",
    "            layer = h\n",
    "            h = tf.layers.dense(h,self.nb_class)\n",
    "            return h, layer\n",
    "\n",
    "    def build_model(self):\n",
    "        self.lab = tf.placeholder(tf.float32,[None,self.x_dim], name='input_lbl_data')\n",
    "        self.unl = tf.placeholder(tf.float32,[None,self.x_dim], name='input_unl_data')\n",
    "        self.z = tf.placeholder(tf.float32, [None,self.z_dim],name='z_seed')\n",
    "        self.lbl = tf.placeholder(tf.float32, [None,self.nb_class],name='labels')\n",
    "         \n",
    "        self.gen = self.generator(self.z,reuse=False)\n",
    "        self.l_lab, _ = self.discriminator(self.lab, reuse=False)\n",
    "        self.l_unl, self.layer_r = self.discriminator(self.unl, reuse=True)\n",
    "        self.l_fake, self.layer_f = self.discriminator(self.gen, reuse=True)\n",
    "        \n",
    "        #loss discriminator\n",
    "        self.loss_lab = - tf.reduce_mean(tf.nn.softmax_cross_entropy_with_logits(logits=self.l_lab,labels=self.lbl))\n",
    "        self.d_loss_fake = 0.5 * tf.reduce_mean(tf.nn.softplus(tf.reduce_logsumexp(self.l_fake)))\n",
    "        self.d_loss_real = - 0.5 * tf.reduce_mean(self.l_unl) + 0.5 * tf.reduce_mean(tf.nn.softplus(tf.reduce_logsumexp(self.l_unl)))\n",
    "        self.d_loss = self.d_loss_fake + self.d_loss_real\n",
    "        #loss generator\n",
    "        self.fm_loss = tf.reduce_mean(tf.reduce_mean(tf.abs(self.layer_r-self.layer_f),axis=0))\n",
    "        \n",
    "        self.prediction = tf.cast(tf.argmax(self.lab,1),tf.int32)                                 \n",
    "        self.correct_prediction = tf.equal(tf.argmax(self.lab, 1), tf.argmax(self.lbl, 1))\n",
    "        self.accuracy = tf.reduce_mean(tf.cast(self.correct_prediction, tf.float32))\n",
    "        \n",
    "        t_vars = tf.trainable_variables()\n",
    "        self.d_vars = [var for var in t_vars if 'discriminator' in var.name]\n",
    "        self.g_vars = [var for var in t_vars if 'generator' in var.name]    \n",
    "        d_optim = tf.train.AdamOptimizer(self.lr_d).minimize(loss=self.d_loss, var_list=self.d_vars)\n",
    "        g_optim = tf.train.AdamOptimizer(self.lr_g).minimize(loss=self.fm_loss, var_list=self.g_vars)\n",
    "        \n",
    "\n",
    "    def train(self, X_unl,X_lab, y):\n",
    "        self.X_unl = X_unl\n",
    "        self.X_unl2 = X_unl.copy()\n",
    "        self.y = y\n",
    "        self.X_lab = X_lab\n",
    "        print(self.X_unl2)\n",
    "                                         \n",
    "        self.nb_examples = self.X_unl.shape[0]\n",
    "        self.nb_step = self.nb_examples//self.batch_size\n",
    "        \n",
    "        self.sess.run(tf.global_variables_initializer())\n",
    "        \n",
    "        for epoch in range(self.nb_epoch):\n",
    "            for step in range(self.nb_step):               \n",
    "                trainx = []\n",
    "                trainy = []\n",
    "                for t in range(X_unl.shape[0]//X_lab.shape[0]):\n",
    "                    inds = np.random.permutation(X_lab.shape[0])\n",
    "                    trainx.append(X_lab[inds])\n",
    "                    trainy.append(y[inds])\n",
    "                self.X_lab = np.concatenate(trainx, axis=0)\n",
    "                self.y = np.concatenate(trainy, axis=0)\n",
    "                self.X_unl = self.X_unl[np.random.permutation(X_unl.shape[0])]\n",
    "                self.X_unl2 = self.X_unl2[np.random.permutation(X_unl2.shape[0])]\n",
    "\n",
    "                ll_d = 0\n",
    "                ll_g = 0 \n",
    "                for step in range(self.nb_step):\n",
    "                    ran_from = step * self.batch_size\n",
    "                    ran_to = (step+1) * self.batch_size\n",
    "                    _, ll = self.sess.run([d_optim, self.d_loss],feed_dict={self.lab:self.X_lab[ran_from:ran_to],\n",
    "                                                                            self.lab:self.y[ran_from:ran_to],\n",
    "                                                                            self.unl:self.X_unl[ran_from:ran_to],\n",
    "                                                                            self.z:np.random.randn(self.batch_size,self.z_dim)})\n",
    "                    ll_d += ll\n",
    "                    \n",
    "                    _, ll = self.sess.run([g_optim, self.fm_loss],feed_dict={self.input:self.X_unl2[ran_from:ran_to],\n",
    "                                                                             self.z:np.random.randn(self.batch_size,self.z_dim)})\n",
    "                    ll_g += ll\n",
    "                ll_d /= (self.nb_examples//self.nb_step)\n",
    "                ll_g /= (self.nb_examples//self.nb_step)     \n",
    "                                           \n",
    "            if (epoch % self.print_frequency == 0) & (self.verbose == True):\n",
    "                print('epoch %d | loss d = %0.4f | loss g = %0.4f '%(epoch, ll_d, ll_g))\n",
    "\n",
    "    def predict(self, X_test, y_test=None):\n",
    "        if y_test == None:     \n",
    "            pred = self.sess.run(self.prediction ,feed_dict={self.input:X_test[:]})\n",
    "            return pred\n",
    "                                         \n",
    "        return self.sess.run([self.prediction, self.accuracy],feed_dict={self.lab:self.X_test,\n",
    "                                                                         self.lbl:self.y_test})\n",
    "                                 \n",
    "\n",
    "    def generate_random_samples(self, nb_samples):\n",
    "        return self.sess.run(self.gen,feed_dict={self.z:np.random.randn(nb_samples,self.z_dim)})                      "
   ]
  },
  {
   "cell_type": "code",
   "execution_count": 41,
   "metadata": {
    "ExecuteTime": {
     "end_time": "2017-11-11T03:21:10.127619Z",
     "start_time": "2017-11-11T03:21:10.114584Z"
    }
   },
   "outputs": [],
   "source": [
    "X,y = datasets.make_moons(n_samples=1000,noise=0.01)\n",
    "X_train, X_test, y_train, y_test = model_selection.train_test_split(X, y, test_size=0.33, random_state=42)\n",
    "nb_labels = 5\n",
    "X_train_lab = np.concatenate([X_train[y_train==0][:nb_labels],X_train[y_train==1][:nb_labels]])\n",
    "y_train_lab = np.concatenate([np.zeros(nb_labels),np.ones(nb_labels)]) "
   ]
  },
  {
   "cell_type": "code",
   "execution_count": 42,
   "metadata": {
    "ExecuteTime": {
     "end_time": "2017-11-11T03:21:10.371325Z",
     "start_time": "2017-11-11T03:21:10.166735Z"
    }
   },
   "outputs": [
    {
     "data": {
      "image/png": "[encoded data removed]",
      "text/plain": [
       "<matplotlib.figure.Figure at 0x2494fdfa4e0>"
      ]
     },
     "metadata": {},
     "output_type": "display_data"
    }
   ],
   "source": [
    "plt.scatter(X_train[:,0] ,X_train[:,1], s=1)\n",
    "plt.scatter(X_train_lab[y_train_lab==0][:,0],X_train_lab[y_train_lab==0][:,1],s=25)\n",
    "plt.scatter(X_train_lab[y_train_lab==1][:,0],X_train_lab[y_train_lab==1][:,1],s=25)\n",
    "plt.show()"
   ]
  },
  {
   "cell_type": "code",
   "execution_count": 43,
   "metadata": {
    "ExecuteTime": {
     "end_time": "2017-11-11T03:21:10.444515Z",
     "start_time": "2017-11-11T03:21:10.440503Z"
    },
    "collapsed": true
   },
   "outputs": [],
   "source": [
    "train_unl = X_train\n",
    "trainx = X_train_lab"
   ]
  },
  {
   "cell_type": "code",
   "execution_count": 44,
   "metadata": {
    "ExecuteTime": {
     "end_time": "2017-11-11T03:21:11.684945Z",
     "start_time": "2017-11-11T03:21:10.894525Z"
    }
   },
   "outputs": [],
   "source": [
    "tf.reset_default_graph()\n",
    "sess = tf.InteractiveSession()\n",
    "ssgan = Model(sess)"
   ]
  },
  {
   "cell_type": "code",
   "execution_count": 45,
   "metadata": {
    "ExecuteTime": {
     "end_time": "2017-11-11T03:21:12.025670Z",
     "start_time": "2017-11-11T03:21:11.723325Z"
    }
   },
   "outputs": [
    {
     "name": "stdout",
     "output_type": "stream",
     "text": [
      "[[-0.92633411  0.39441776]\n",
      " [-0.86227324  0.50588487]\n",
      " [-0.81279227  0.5630838 ]\n",
      " ..., \n",
      " [ 1.82854252 -0.07099882]\n",
      " [-0.28717591  0.9520792 ]\n",
      " [-0.39757699  0.9154494 ]]\n"
     ]
    },
    {
     "ename": "NameError",
     "evalue": "name 'X_unl2' is not defined",
     "output_type": "error",
     "traceback": [
      "\u001b[1;31m---------------------------------------------------------------------------\u001b[0m",
      "\u001b[1;31mNameError\u001b[0m                                 Traceback (most recent call last)",
      "\u001b[1;32m<ipython-input-45-983364cef2b1>\u001b[0m in \u001b[0;36m<module>\u001b[1;34m()\u001b[0m\n\u001b[1;32m----> 1\u001b[1;33m \u001b[0mssgan\u001b[0m\u001b[1;33m.\u001b[0m\u001b[0mtrain\u001b[0m\u001b[1;33m(\u001b[0m\u001b[0mtrain_unl\u001b[0m\u001b[1;33m,\u001b[0m \u001b[0mtrainx\u001b[0m\u001b[1;33m,\u001b[0m \u001b[0my_train_lab\u001b[0m\u001b[1;33m)\u001b[0m\u001b[1;33m\u001b[0m\u001b[0m\n\u001b[0m",
      "\u001b[1;32m<ipython-input-40-1fb671761aa1>\u001b[0m in \u001b[0;36mtrain\u001b[1;34m(self, X_unl, X_lab, y)\u001b[0m\n\u001b[0;32m     87\u001b[0m                 \u001b[0mself\u001b[0m\u001b[1;33m.\u001b[0m\u001b[0my\u001b[0m \u001b[1;33m=\u001b[0m \u001b[0mnp\u001b[0m\u001b[1;33m.\u001b[0m\u001b[0mconcatenate\u001b[0m\u001b[1;33m(\u001b[0m\u001b[0mtrainy\u001b[0m\u001b[1;33m,\u001b[0m \u001b[0maxis\u001b[0m\u001b[1;33m=\u001b[0m\u001b[1;36m0\u001b[0m\u001b[1;33m)\u001b[0m\u001b[1;33m\u001b[0m\u001b[0m\n\u001b[0;32m     88\u001b[0m                 \u001b[0mself\u001b[0m\u001b[1;33m.\u001b[0m\u001b[0mX_unl\u001b[0m \u001b[1;33m=\u001b[0m \u001b[0mself\u001b[0m\u001b[1;33m.\u001b[0m\u001b[0mX_unl\u001b[0m\u001b[1;33m[\u001b[0m\u001b[0mnp\u001b[0m\u001b[1;33m.\u001b[0m\u001b[0mrandom\u001b[0m\u001b[1;33m.\u001b[0m\u001b[0mpermutation\u001b[0m\u001b[1;33m(\u001b[0m\u001b[0mX_unl\u001b[0m\u001b[1;33m.\u001b[0m\u001b[0mshape\u001b[0m\u001b[1;33m[\u001b[0m\u001b[1;36m0\u001b[0m\u001b[1;33m]\u001b[0m\u001b[1;33m)\u001b[0m\u001b[1;33m]\u001b[0m\u001b[1;33m\u001b[0m\u001b[0m\n\u001b[1;32m---> 89\u001b[1;33m                 \u001b[0mself\u001b[0m\u001b[1;33m.\u001b[0m\u001b[0mX_unl2\u001b[0m \u001b[1;33m=\u001b[0m \u001b[0mself\u001b[0m\u001b[1;33m.\u001b[0m\u001b[0mX_unl2\u001b[0m\u001b[1;33m[\u001b[0m\u001b[0mnp\u001b[0m\u001b[1;33m.\u001b[0m\u001b[0mrandom\u001b[0m\u001b[1;33m.\u001b[0m\u001b[0mpermutation\u001b[0m\u001b[1;33m(\u001b[0m\u001b[0mX_unl2\u001b[0m\u001b[1;33m.\u001b[0m\u001b[0mshape\u001b[0m\u001b[1;33m[\u001b[0m\u001b[1;36m0\u001b[0m\u001b[1;33m]\u001b[0m\u001b[1;33m)\u001b[0m\u001b[1;33m]\u001b[0m\u001b[1;33m\u001b[0m\u001b[0m\n\u001b[0m\u001b[0;32m     90\u001b[0m \u001b[1;33m\u001b[0m\u001b[0m\n\u001b[0;32m     91\u001b[0m                 \u001b[0mll_d\u001b[0m \u001b[1;33m=\u001b[0m \u001b[1;36m0\u001b[0m\u001b[1;33m\u001b[0m\u001b[0m\n",
      "\u001b[1;31mNameError\u001b[0m: name 'X_unl2' is not defined"
     ]
    }
   ],
   "source": [
    "ssgan.train(train_unl, trainx, y_train_lab)"
   ]
  },
  {
   "cell_type": "code",
   "execution_count": null,
   "metadata": {
    "collapsed": true
   },
   "outputs": [],
   "source": []
  }
 ],
 "metadata": {
  "kernelspec": {
   "display_name": "Python [conda root]",
   "language": "python",
   "name": "conda-root-py"
  },
  "language_info": {
   "codemirror_mode": {
    "name": "ipython",
    "version": 3
   },
   "file_extension": ".py",
   "mimetype": "text/x-python",
   "name": "python",
   "nbconvert_exporter": "python",
   "pygments_lexer": "ipython3",
   "version": "3.6.2"
  },
  "varInspector": {
   "cols": {
    "lenName": 16,
    "lenType": 16,
    "lenVar": 40
   },
   "kernels_config": {
    "python": {
     "delete_cmd_postfix": "",
     "delete_cmd_prefix": "del ",
     "library": "var_list.py",
     "varRefreshCmd": "print(var_dic_list())"
    },
    "r": {
     "delete_cmd_postfix": ") ",
     "delete_cmd_prefix": "rm(",
     "library": "var_list.r",
     "varRefreshCmd": "cat(var_dic_list()) "
    }
   },
   "types_to_exclude": [
    "module",
    "function",
    "builtin_function_or_method",
    "instance",
    "_Feature"
   ],
   "window_display": true
  }
 },
 "nbformat": 4,
 "nbformat_minor": 2
}
